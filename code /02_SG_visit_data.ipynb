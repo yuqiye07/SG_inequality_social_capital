{
 "cells": [
  {
   "cell_type": "markdown",
   "id": "3059a3ab",
   "metadata": {},
   "source": [
    "This python scripts is for calculating county level visit rate and brand accessibility."
   ]
  },
  {
   "cell_type": "markdown",
   "id": "ea0dbe28",
   "metadata": {},
   "source": [
    "# packages\n"
   ]
  },
  {
   "cell_type": "code",
   "execution_count": null,
   "id": "f798442b",
   "metadata": {
    "ExecuteTime": {
     "end_time": "2024-12-06T13:59:34.592193Z",
     "start_time": "2024-12-06T13:59:34.586874Z"
    }
   },
   "outputs": [],
   "source": [
    "import json\n",
    "import pandas as pd\n",
    "import os\n",
    "#!pip install geopandas\n",
    "import geopandas as gpd\n",
    "#!pip install -q --upgrade git+https://github.com/SafeGraphInc/safegraph_py\n",
    "from safegraph_py_functions import safegraph_py_functions as sgpy\n"
   ]
  },
  {
   "cell_type": "code",
   "execution_count": null,
   "id": "ff182846",
   "metadata": {
    "ExecuteTime": {
     "end_time": "2024-12-06T14:00:36.216356Z",
     "start_time": "2024-12-06T14:00:36.213805Z"
    }
   },
   "outputs": [],
   "source": [
    "os.chdir('/your/path')\n"
   ]
  },
  {
   "cell_type": "markdown",
   "id": "f7a51a6c",
   "metadata": {},
   "source": [
    "# read raw data for POIs of clothing stores"
   ]
  },
  {
   "cell_type": "markdown",
   "id": "a954ffec",
   "metadata": {},
   "source": [
    "You need to have raw visit data stored in the path, the data used in this study was accessed from Dewey (https://www.deweydata.io/).\n",
    "The data structure and variable names may have changed. Please verify before using the code below.\n",
    "\n"
   ]
  },
  {
   "cell_type": "markdown",
   "id": "396f77e4",
   "metadata": {},
   "source": [
    "The following function reads all raw visit data files. The raw data is on poi (points of interest, i.e., a location) level, with a json column named \"visitor_home_cbgs\" storing visitor information."
   ]
  },
  {
   "cell_type": "code",
   "execution_count": null,
   "id": "b9abc418",
   "metadata": {
    "ExecuteTime": {
     "end_time": "2024-12-06T11:52:23.288012Z",
     "start_time": "2024-12-06T11:52:23.280361Z"
    }
   },
   "outputs": [],
   "source": [
    "def read_raw(month):\n",
    "    df_poi_monthly = pd.DataFrame()\n",
    "  # there are 30 sub files for each month\n",
    "    for i in range(1, 30):\n",
    "        file_name = f\"/yourpath/raw_data/safegraph_{month}_part{i}.csv.gz\"\n",
    "        df_part = pd.read_csv(file_name,compression='zip',usecols=[0,4,6,7,9,10,28,29,30,35,36]) #select essential columns \n",
    "        # filter data by poi category and country\n",
    "        df_part = df_part[(df_part.top_category == \"Clothing Stores\") & (df_part.iso_country_code == \"US\")]\n",
    "        df_part['visitor_home_cbgs'] = df_part['visitor_home_cbgs'].fillna('')\n",
    "        # remove pois without visitor information\n",
    "        df_part = df_part[(df_part['visitor_home_cbgs'] != '') & (df_part['visitor_home_cbgs'] != '{}')]\n",
    "        # combine 30 files of the same month\n",
    "        df_poi_monthly = pd.concat([df_poi_monthly, df_part], axis=0)\n",
    "        # add month column\n",
    "        df_poi_monthly['month'] = month\n",
    "        return(df_poi_monthly)"
   ]
  },
  {
   "cell_type": "code",
   "execution_count": null,
   "id": "24bb4b9a",
   "metadata": {},
   "outputs": [],
   "source": [
    "# read the data for each month and combine\n",
    "dfs={}\n",
    "all_months = ['jan','feb','mar','apr','may','jun','jul','aug','sep','oct','nov','dec']\n",
    "dfs={}\n",
    "for month in all_months:\n",
    "    df_poi_monthly = read_raw(month)\n",
    "    dfs[f'df_poi_{month}'] = df_poi_monthly\n",
    "\n",
    "df_poi_raw = pd.concat(dfs.values(), ignore_index=True)"
   ]
  },
  {
   "cell_type": "markdown",
   "id": "48089bdd",
   "metadata": {},
   "source": [
    "# assign brand tiers"
   ]
  },
  {
   "cell_type": "code",
   "execution_count": null,
   "id": "a8248001",
   "metadata": {
    "ExecuteTime": {
     "end_time": "2024-12-06T14:12:46.976991Z",
     "start_time": "2024-12-06T14:12:46.970326Z"
    }
   },
   "outputs": [],
   "source": [
    "# survey_ratings.csv is produced from 01_brand_ratings.R\n",
    "survey_data = pd.read_csv('clean_data/survey_ratings.csv')"
   ]
  },
  {
   "cell_type": "code",
   "execution_count": null,
   "id": "fb8a4952",
   "metadata": {
    "ExecuteTime": {
     "end_time": "2024-12-06T14:12:48.373098Z",
     "start_time": "2024-12-06T14:12:48.362403Z"
    }
   },
   "outputs": [],
   "source": [
    "survey_data = survey_data[~survey_data.brands.isin(['Nordstrom','Marshalls','Burlington'])]#remove department stores\n",
    "# 100 most recognized brands\n",
    "recognizable_brands = survey_data.sort_values('perc_na')[:100]\n",
    "# sort by average ratings\n",
    "recognizable_brands = recognizable_brands.sort_values(by='mean',ascending=False)\n",
    "# brand lists of 4 tiers\n",
    "tier1_brands = recognizable_brands.iloc[0:25,]['brands'].values\n",
    "tier2_brands = recognizable_brands.iloc[25:50,]['brands'].values\n",
    "tier3_brands = recognizable_brands.iloc[50:75,]['brands'].values\n",
    "tier4_brands = recognizable_brands.iloc[75:100,]['brands'].values"
   ]
  },
  {
   "cell_type": "code",
   "execution_count": null,
   "id": "7792ad17",
   "metadata": {
    "ExecuteTime": {
     "end_time": "2024-12-06T14:12:49.535735Z",
     "start_time": "2024-12-06T14:12:49.531665Z"
    }
   },
   "outputs": [],
   "source": [
    "# assign tier to brands\n",
    "def label_tier(brand):\n",
    "    if pd.isnull(brand):\n",
    "        return('no_brands')\n",
    "    elif brand in tier1_brands:\n",
    "        return('tier1')\n",
    "    elif brand in tier2_brands:\n",
    "        return('tier2')\n",
    "    elif brand in tier3_brands:\n",
    "        return('tier3')\n",
    "    elif brand in tier4_brands:\n",
    "        return('tier4')\n",
    "    else: return('other_brands')"
   ]
  },
  {
   "cell_type": "code",
   "execution_count": null,
   "id": "36652b6c",
   "metadata": {
    "ExecuteTime": {
     "end_time": "2024-12-06T14:12:50.879659Z",
     "start_time": "2024-12-06T14:12:50.874183Z"
    }
   },
   "outputs": [],
   "source": [
    "def preprocess_poi(df_poi):\n",
    "    df_poi['brand_tier'] = df_poi.brands.apply(lambda x: label_tier(x)) # add brand tier column  \n",
    "    df_poi = df_poi[df_poi.brand_tier != \"no_brands\"]# remove poi with no brand recorded in the data\n",
    "    df_poi['poi_cbg'] = df_poi['poi_cbg'].astype('str')  \n",
    "    # remove US outlying territories\n",
    "    df_poi = df_poi.drop(df_poi[df_poi.poi_cbg.str.startswith(('60','66','69','78','72'))].index).reset_index(drop=True)\n",
    "    return(df_poi)"
   ]
  },
  {
   "cell_type": "code",
   "execution_count": null,
   "id": "6c1b09c1",
   "metadata": {
    "ExecuteTime": {
     "end_time": "2024-12-06T14:54:22.069088Z",
     "start_time": "2024-12-06T14:54:21.979538Z"
    },
    "scrolled": false
   },
   "outputs": [],
   "source": [
    "df_poi = preprocess_poi(df_poi_raw)"
   ]
  },
  {
   "cell_type": "markdown",
   "id": "1f807907",
   "metadata": {
    "ExecuteTime": {
     "end_time": "2024-12-06T13:05:52.952129Z",
     "start_time": "2024-12-06T13:05:52.946939Z"
    }
   },
   "source": [
    "# county level visit rate"
   ]
  },
  {
   "cell_type": "markdown",
   "id": "ca72bed5",
   "metadata": {},
   "source": [
    "we calculate number of 2 types of visitors for each county:\n",
    "1.   visitors who visited all clothing stores\n",
    "2.   visitors who visited a certain brand tier\n",
    "\n"
   ]
  },
  {
   "cell_type": "code",
   "execution_count": null,
   "id": "fece612c",
   "metadata": {
    "ExecuteTime": {
     "end_time": "2024-12-06T14:53:59.276892Z",
     "start_time": "2024-12-06T14:53:59.265225Z"
    }
   },
   "outputs": [],
   "source": [
    "# Function to calculate the monthly average number of visitors for all POIs\n",
    "# or for a specific tier (if a tier is specified).\n",
    "\n",
    "def get_visitors(df_poi,tier):\n",
    "    # filter POI data for the specified brand tier (if provided)\n",
    "    if tier is not None:\n",
    "        df_poi = df_poi[df_poi.brand_tier == tier]\n",
    "    \n",
    "    # Unpack json column\n",
    "    df_home = sgpy.unpack_json_fast(df_poi, chunk_n=1000) # chunk_n is the size of one chunk\n",
    "    \n",
    "    # get county fips\n",
    "    df_home['home_county'] = df_home.visitor_home_cbgs_key.str[:5]\n",
    "    \n",
    "    # calculate county level visitors\n",
    "    df_county_home = df_home.groupby('home_county')['visitor_home_cbgs_value'].sum().reset_index()\n",
    "    df_county_home = df_county_home.rename(columns = {'visitor_home_cbgs_value': 'visitors'})\n",
    "    \n",
    "    # calculate monthly average number of visitors\n",
    "    df_county_home['visitors'] = df_county_home['visitors']/len(df_poi.month.unique()) #calculate average monthly visitors\n",
    "    \n",
    "    # Drop counties in oversea territories and whose FIPS code starts with \"CA\"\n",
    "    df_county_home = df_county_home[~df_county_home.home_county.str.startswith(('60', '66', '69', '78', '72', 'CA'))].reset_index(drop=True)\n",
    "    \n",
    "    # add a tier column\n",
    "    df_county_home['tier'] = tier if tier is not None else \"all\"\n",
    "    \n",
    "    return df_county_home"
   ]
  },
  {
   "cell_type": "code",
   "execution_count": null,
   "id": "0c410e3c",
   "metadata": {
    "ExecuteTime": {
     "end_time": "2024-12-06T15:47:33.074468Z",
     "start_time": "2024-12-06T15:47:33.068856Z"
    }
   },
   "outputs": [],
   "source": [
    "# get county level visitors for all pois \n",
    "df_all_visitors = get_visitors(df_poi,tier=None)\n",
    "df_all_visitors = df_all_visitors.rename(columns = {\"visitors\" : \"all_visitors\"})"
   ]
  },
  {
   "cell_type": "code",
   "execution_count": null,
   "id": "e8ca74ba",
   "metadata": {
    "ExecuteTime": {
     "end_time": "2024-12-06T15:38:40.147141Z",
     "start_time": "2024-12-06T15:38:40.066800Z"
    }
   },
   "outputs": [],
   "source": [
    "# calculate county visitors for each tier\n",
    "\n",
    "all_tiers = ['tier1','tier2','tier3','tier4']\n",
    "dfs={}\n",
    "\n",
    "for tier in all_tiers:\n",
    "    df_home = get_tier_visitors(df_poi,tier)\n",
    "    dfs[f\"df_{tier}_visitors\"] = df_home\n",
    "    \n",
    "df_tier_visitors = pd.concat(dfs.values(), ignore_index=True)\n",
    "# convert data from long to wide format \n",
    "df_tier_visitors_wide=df_tier_visitors.pivot(index='home_county',columns='tier',values=\"tier_visitors\").fillna(0).reset_index()\n"
   ]
  },
  {
   "cell_type": "code",
   "execution_count": null,
   "id": "3af7167c",
   "metadata": {
    "ExecuteTime": {
     "end_time": "2024-12-06T15:47:48.740390Z",
     "start_time": "2024-12-06T15:47:48.661836Z"
    }
   },
   "outputs": [],
   "source": [
    "# merge tier visitors with all visitors\n",
    "df_visitors = df_all_visitors.merge(df_tier_visitors_wide,on=\"home_county\",how='left').fillna(0)\n",
    "# wide to long format\n",
    "df_visitors_long = pd.melt(df_visitors, id_vars=['home_county','all_visitors'],\n",
    "                           value_vars=['tier1','tier2','tier3','tier4'],\n",
    "                           var_name='tier', value_name='tier_visitors')\n",
    "# merging index will be used for merging with store accessibility data\n",
    "df_visitors_long['merge_index'] = df_visitors_long.apply(lambda x: x.home_county+x.tier,axis=1)"
   ]
  },
  {
   "cell_type": "markdown",
   "id": "e605dc0b",
   "metadata": {},
   "source": [
    "# brand accessibility"
   ]
  },
  {
   "cell_type": "markdown",
   "id": "942560fd",
   "metadata": {},
   "source": [
    "We calculate the percent of brand tier that are accessible to each home county. we expanded the polygon of each county by 20 miles beyond its original boundary.  Therefore, not only are these POIs located within the county boundary, but also those located near enough are considered accessible."
   ]
  },
  {
   "cell_type": "code",
   "execution_count": null,
   "id": "eeb4fe31",
   "metadata": {
    "ExecuteTime": {
     "end_time": "2024-12-06T15:39:12.399096Z",
     "start_time": "2024-12-06T15:39:11.624715Z"
    }
   },
   "outputs": [],
   "source": [
    "# Load the json file with county coordinates\n",
    "geoData = gpd.read_file('https://raw.githubusercontent.com/holtzy/The-Python-Graph-Gallery/master/static/data/US-counties.geojson')\n"
   ]
  },
  {
   "cell_type": "code",
   "execution_count": null,
   "id": "7cf01ed0",
   "metadata": {
    "ExecuteTime": {
     "end_time": "2024-12-06T15:39:15.313149Z",
     "start_time": "2024-12-06T15:39:15.301073Z"
    }
   },
   "outputs": [],
   "source": [
    "def poi_accessibility(df_poi):\n",
    "    # select poi cordinates\n",
    "    df_poi2=df_poi.loc[:,['latitude','longitude','brand_tier']]\n",
    "    #transform points data to geodf format\n",
    "    geodf_poi = gpd.GeoDataFrame(df_poi2, geometry=gpd.points_from_xy(df_poi2.longitude, df_poi2.latitude),crs='EPSG:4326')\n",
    "    #transform points data to epsg27700 format (measured in meters)\n",
    "    geodf_poi2=geodf_poi.to_crs('EPSG:27700')\n",
    "    #expand county boundaries by 20 miles\n",
    "    buffers_20mile = geoData.set_geometry(geoData.to_crs('EPSG:27700').buffer(32187))\n",
    "    #merge county polygon and poi points\n",
    "    dfmerge_county = gpd.sjoin(buffers_20mile, geodf_poi2, how=\"left\", predicate='intersects')\n",
    "    # calculate number of pois of different tiers within each county, \"id\" represents county code\n",
    "    dfmerge_county = dfmerge_county[['id','brand_tier']].groupby(['id','brand_tier']).size().reset_index()\n",
    "    dfmerge_county = dfmerge_county.rename(columns={0:'counts'}) #remame column\n",
    "    #average monthly counts, as df_poi includes 12 month data\n",
    "    dfmerge_county['counts']=dfmerge_county['counts']/len(df_poi.month.unique())\n",
    "    #count points of all brand type\n",
    "    total_counts = dfmerge_county.groupby('id')['counts'].sum()\n",
    "    # number of total accessible clothing stores\n",
    "    dfmerge_county['total_counts'] = dfmerge_county.id.apply(lambda x: total_counts[x])\n",
    "    # percent of accessible stores of given brand tier\n",
    "    dfmerge_county['store_ratio'] = dfmerge_county.apply(lambda x: x.counts/x.total_counts,axis=1)\n",
    "    # merging index that will be used for merging with visitor data\n",
    "    dfmerge_county['merge_index'] = dfmerge_county.apply(lambda x: x.id+x.brand_tier,axis=1)\n",
    "\n",
    "    return(dfmerge_county)"
   ]
  },
  {
   "cell_type": "code",
   "execution_count": null,
   "id": "6b02485f",
   "metadata": {
    "ExecuteTime": {
     "end_time": "2024-12-06T15:39:22.475154Z",
     "start_time": "2024-12-06T15:39:18.003166Z"
    }
   },
   "outputs": [],
   "source": [
    "df_brand_accessibility = poi_accessibility(df_poi)"
   ]
  },
  {
   "cell_type": "code",
   "execution_count": null,
   "id": "65f3a826",
   "metadata": {
    "ExecuteTime": {
     "end_time": "2024-12-06T15:49:01.142208Z",
     "start_time": "2024-12-06T15:49:01.119567Z"
    }
   },
   "outputs": [],
   "source": [
    "# merge visitor data with brand accessibility data\n",
    "df_visitors_acc = df_visitors_long.merge(df_brand_accessibility[['merge_index','store_ratio']],\n",
    "                                         on = 'merge_index',\n",
    "                                         how='left').fillna(0)"
   ]
  },
  {
   "cell_type": "code",
   "execution_count": null,
   "id": "989c3128",
   "metadata": {},
   "outputs": [],
   "source": [
    "df_visitors_acc.to_csv(\"/clean_data/df_visits.csv\",index=False)"
   ]
  }
 ],
 "metadata": {
  "kernelspec": {
   "display_name": "Python 3 (ipykernel)",
   "language": "python",
   "name": "python3"
  },
  "language_info": {
   "codemirror_mode": {
    "name": "ipython",
    "version": 3
   },
   "file_extension": ".py",
   "mimetype": "text/x-python",
   "name": "python",
   "nbconvert_exporter": "python",
   "pygments_lexer": "ipython3",
   "version": "3.11.3"
  },
  "toc": {
   "base_numbering": 1,
   "nav_menu": {},
   "number_sections": true,
   "sideBar": true,
   "skip_h1_title": false,
   "title_cell": "Table of Contents",
   "title_sidebar": "Contents",
   "toc_cell": false,
   "toc_position": {},
   "toc_section_display": true,
   "toc_window_display": false
  }
 },
 "nbformat": 4,
 "nbformat_minor": 5
}
