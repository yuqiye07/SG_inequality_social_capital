{
  "cells": [
    {
      "cell_type": "markdown",
      "metadata": {
        "id": "Xqh7N2vS0fa0"
      },
      "source": [
        "## packages"
      ]
    },
    {
      "cell_type": "code",
      "source": [
        "!pip install geopandas\n",
        "import geopandas as gpd\n",
        "import pandas as pd\n",
        "import json\n",
        "!pip install -q --upgrade git+https://github.com/SafeGraphInc/safegraph_py\n",
        "from safegraph_py_functions import safegraph_py_functions as sgpy\n",
        "from safegraph_py_functions import cbg_functions as sgpy_cbg\n",
        "from google.colab import drive\n",
        "import os\n"
      ],
      "metadata": {
        "id": "P0PKWjeMOClP"
      },
      "execution_count": 5,
      "outputs": []
    },
    {
      "cell_type": "code",
      "source": [
        "drive.mount('/content/gdrive')\n"
      ],
      "metadata": {
        "colab": {
          "base_uri": "https://localhost:8080/"
        },
        "id": "L0THIRkgN6aj",
        "outputId": "ec903082-f136-46fa-bf2b-3566730824ef"
      },
      "execution_count": 3,
      "outputs": [
        {
          "output_type": "stream",
          "name": "stdout",
          "text": [
            "Mounted at /content/gdrive\n"
          ]
        }
      ]
    },
    {
      "cell_type": "code",
      "execution_count": 6,
      "metadata": {
        "id": "KNRVuaVIT_PJ"
      },
      "outputs": [],
      "source": [
        "# Set working directory: change as appropriate\n",
        "#os.chdir('/content/gdrive/My Drive/your path')\n"
      ]
    },
    {
      "cell_type": "markdown",
      "metadata": {
        "id": "F-TwyiluVE8T"
      },
      "source": [
        "## filter raw clothing data"
      ]
    },
    {
      "cell_type": "markdown",
      "source": [
        "The following function reads all raw visit data files. The raw data is on poi (points of interest, i.e., a location) level, with a json column named \"visitor_home_cbgs\" storing visitor information."
      ],
      "metadata": {
        "id": "7vSUKVGGUIuq"
      }
    },
    {
      "cell_type": "code",
      "execution_count": 15,
      "metadata": {
        "id": "BDSNmlBu0YFu"
      },
      "outputs": [],
      "source": [
        "# you need to have raw visit data stored in the path\n",
        "# the data used in this study was accessed on April 6, 2023.\n",
        "# The data structure may have been updated since then. Please verify the data\n",
        "# structure before using the code provided below.\n",
        "def single_month_raw_data(month):\n",
        "  df_poi_monthly = pd.DataFrame()\n",
        "  # there are 30 sub files for each month\n",
        "  for i in range(1, 30):\n",
        "    file_name = f\"/yourpath/raw_data/safegraph_{month}_part{i}.csv.gz\"\n",
        "    df_part = pd.read_csv(file_name,compression='zip',usecols=[0,4,6,7,9,10,28,29,30,35,36])\n",
        "    # filter data by poi category and country\n",
        "    df_part = df_part[(df_part.top_category == \"Clothing Stores\") & (df_part.iso_country_code == \"US\")]\n",
        "    df_part['visitor_home_cbgs'] = df_part['visitor_home_cbgs'].fillna('')\n",
        "    # remove empty rows\n",
        "    df_part = df_part[(df_part['visitor_home_cbgs'] != '') & (df_part['visitor_home_cbgs'] != '{}')]\n",
        "    # combine 30 files of the same month\n",
        "    df_poi_monthly = pd.concat([df_poi_monthly, df_part], axis=0)\n",
        "    # add month column\n",
        "    df_poi_monthly['month'] = month\n",
        "  return(df_poi_monthly)\n",
        "# read the data for each month and combine\n",
        "dfs={}\n",
        "all_months = ['jan','feb','mar','apr','may','jun','jul','aug','sep','oct','nov','dec']\n",
        "dfs={}\n",
        "for month in all_months:\n",
        "  df_poi_monthly = single_month_raw_data(month)\n",
        "  dfs[f'df_poi_{month}'] = df_poi_monthly\n",
        "\n",
        "df_poi_raw = pd.concat(dfs.values(), ignore_index=True)\n"
      ]
    },
    {
      "cell_type": "markdown",
      "source": [
        "## assign brand tiers"
      ],
      "metadata": {
        "id": "WG--9LxNaX8n"
      }
    },
    {
      "cell_type": "code",
      "source": [
        "# this data is produced by 01_brand_ratings.R\n",
        "survey_data = pd.read_csv('clean_data/survey_ratings.csv')"
      ],
      "metadata": {
        "id": "NY0dDkYLcRGC"
      },
      "execution_count": 18,
      "outputs": []
    },
    {
      "cell_type": "code",
      "source": [
        "survey_data = survey_data[~survey_data.brands.isin(['Nordstrom','Marshalls','Burlington'])]#remove department stores\n",
        "# 100 most recognized brands\n",
        "recognizable_brands = survey_data.sort_values('perc_na')[:100]"
      ],
      "metadata": {
        "id": "jZ5hykenclSK"
      },
      "execution_count": 19,
      "outputs": []
    },
    {
      "cell_type": "code",
      "source": [
        "# sort by average ratings\n",
        "recognizable_brands = recognizable_brands.sort_values(by='mean_rating',ascending=False)\n",
        "# brand lists of 4 tiers\n",
        "tier1_brands = recognizable_brands.iloc[0:25,]['brands'].values\n",
        "tier2_brands = recognizable_brands.iloc[25:50,]['brands'].values\n",
        "tier3_brands = recognizable_brands.iloc[50:75,]['brands'].values\n",
        "tier4_brands = recognizable_brands.iloc[75:100,]['brands'].values"
      ],
      "metadata": {
        "id": "dyE8z_VKdNEm"
      },
      "execution_count": 20,
      "outputs": []
    },
    {
      "cell_type": "code",
      "execution_count": 21,
      "metadata": {
        "id": "6BDAQ-6qDyv8"
      },
      "outputs": [],
      "source": [
        "# assign tier to brands\n",
        "def label_tier(brand):\n",
        "  if pd.isnull(brand):\n",
        "    return('no_brands')\n",
        "  elif brand in tier1_brands:\n",
        "    return('tier1')\n",
        "  elif brand in tier2_brands:\n",
        "    return('tier2')\n",
        "  elif brand in tier3_brands:\n",
        "    return('tier3')\n",
        "  elif brand in tier4_brands:\n",
        "    return('tier4')\n",
        "  else: return('other_brands')\n",
        "\n",
        "def preprocess_poi(df_poi):\n",
        "  df_poi['brand_tier'] = df_poi.brands.apply(lambda x: label_tier(x))\n",
        "  # remove poi with no brand recorded in the data\n",
        "  df_poi = df_poi[df_poi.brand_tier != \"no_brands\"]\n",
        "  df_poi['poi_cbg'] = df_poi['poi_cbg'].astype('str')\n",
        "  # remove US outlying territories\n",
        "  df_poi = df_poi.drop(df_poi[df_poi.poi_cbg.str.startswith(('60','66','69','78','72'))].index).reset_index(drop=True)\n",
        "  return(df_poi)"
      ]
    },
    {
      "cell_type": "code",
      "execution_count": 23,
      "metadata": {
        "id": "XloWmy2lZ-AZ",
        "colab": {
          "base_uri": "https://localhost:8080/"
        },
        "outputId": "d265f1b2-3dc9-4823-dd8d-32a99c64d50b"
      },
      "outputs": [
        {
          "output_type": "stream",
          "name": "stderr",
          "text": [
            "<ipython-input-21-e0b0d017b060>:19: SettingWithCopyWarning: \n",
            "A value is trying to be set on a copy of a slice from a DataFrame.\n",
            "Try using .loc[row_indexer,col_indexer] = value instead\n",
            "\n",
            "See the caveats in the documentation: https://pandas.pydata.org/pandas-docs/stable/user_guide/indexing.html#returning-a-view-versus-a-copy\n",
            "  df_poi['poi_cbg'] = df_poi['poi_cbg'].astype('str')\n"
          ]
        }
      ],
      "source": [
        "# process poi data and add tiers\n",
        "df_poi = preprocess_poi(df_poi_raw)"
      ]
    },
    {
      "cell_type": "markdown",
      "metadata": {
        "id": "tqfyP2al1lfq"
      },
      "source": [
        "## county level visitors\n"
      ]
    },
    {
      "cell_type": "markdown",
      "source": [
        "we calculate 2 types of visitors:\n",
        "1.   number of visitors who visited all clothing stores\n",
        "2.   number of visitors who visited each brand tier.\n",
        "\n"
      ],
      "metadata": {
        "id": "UuvPLckShJzr"
      }
    },
    {
      "cell_type": "markdown",
      "metadata": {
        "id": "vXMiUxpT4ocC"
      },
      "source": [
        "\n",
        "\n",
        "### visitors for all clothing stores"
      ]
    },
    {
      "cell_type": "code",
      "source": [
        "def get_all_visitors(df_poi):\n",
        "  # sgpy.unpack_json is a function used to explode JSON objects and calculate\n",
        "  # number of visitors from census block groups\n",
        "  df_home = sgpy.unpack_json(df_poi)\n",
        "  # get county fips\n",
        "  df_home['home_county'] = df_home.visitor_home_cbgs_key.str[:5]\n",
        "  # calculate county level visitors\n",
        "  df_county_home = df_home.groupby('home_county')['visitor_home_cbgs_value'].sum().reset_index()\n",
        "  # rename\n",
        "  df_county_home = df_county_home.rename(columns = {'visitor_home_cbgs_value':'all_visitors'})\n",
        "  # calculate monthly average number of visitors\n",
        "  df_county_home['all_visitors'] = df_county_home['all_visitors']/len(df_poi.month.unique())\n",
        "  # drop counties in oversea territories and whose FIPS code starts with \"CA\" (wrong fips)\n",
        "  df_county_home = df_county_home.drop(df_county_home[df_county_home.home_county.str.startswith(('60', '66', '69', '78', '72', 'CA'))].index)\n",
        "\n",
        "  return(df_county_home)\n"
      ],
      "metadata": {
        "id": "ziWzViqpVCPu"
      },
      "execution_count": 27,
      "outputs": []
    },
    {
      "cell_type": "code",
      "source": [
        "df_all_visitors = get_all_visitors(df_poi)"
      ],
      "metadata": {
        "id": "WQvdsicfWy5j"
      },
      "execution_count": 28,
      "outputs": []
    },
    {
      "cell_type": "markdown",
      "metadata": {
        "id": "jWym9Kcf6KJq"
      },
      "source": [
        "### visitors for brand tiers"
      ]
    },
    {
      "cell_type": "code",
      "source": [
        "def get_tier_visitors(df_poi,tier):\n",
        "    # Filter df_poi for the given tier\n",
        "    df_poi_selected = df_poi[df_poi.brand_tier == tier]\n",
        "    # Unpack json and prepare the dataframe\n",
        "    df_home = sgpy.unpack_json(df_poi_selected)\n",
        "    # get county fips\n",
        "    df_home['home_county'] = df_home.visitor_home_cbgs_key.str[:5]\n",
        "    # calculate county level visitors\n",
        "    df_county_home = df_home.groupby('home_county')['visitor_home_cbgs_value'].sum().reset_index()\n",
        "    df_county_home = df_county_home.rename(columns={'visitor_home_cbgs_value': 'tier_visitors'})\n",
        "    # calculate monthly average number of visitors\n",
        "    df_county_home['tier_visitors'] = df_county_home['tier_visitors']/len(df_poi_selected.month.unique()) #calculate average monthly visitors\n",
        "    # Drop counties in oversea territories and whose FIPS code starts with \"CA\"\n",
        "    df_county_home = df_county_home[~df_county_home.home_county.str.startswith(('60', '66', '69', '78', '72', 'CA'))].reset_index(drop=True)\n",
        "    # add brand tier\n",
        "    df_county_home['tier'] = tier\n",
        "    return df_county_home"
      ],
      "metadata": {
        "id": "bcNcU_jcsYtC"
      },
      "execution_count": 30,
      "outputs": []
    },
    {
      "cell_type": "code",
      "source": [
        "all_tiers = ['tier1','tier2','tier3','tier4']\n",
        "dfs={}\n",
        "\n",
        "for tier in all_tiers:\n",
        "  df_home = get_tier_visitors(df_poi,tier)\n",
        "  dfs[f\"df_{tier}_visitors\"] = df_home\n",
        "df_tier_visitors = pd.concat(dfs.values(), ignore_index=True)\n",
        "# long to wide data\n",
        "df_tier_visitors_wide=df_tier_visitors.pivot(index='home_county',columns='tier',values=\"tier_visitors\").fillna(0).reset_index()\n"
      ],
      "metadata": {
        "id": "7RvFnRGyxo11"
      },
      "execution_count": 31,
      "outputs": []
    },
    {
      "cell_type": "code",
      "source": [
        "# merge tier visitors with all visitors\n",
        "df_visitors = df_all_visitors.merge(df_tier_visitors_wide,on=\"home_county\",how='left').fillna(0)\n",
        "# wide to long format\n",
        "df_visitors_long = pd.melt(df_visitors, id_vars=['home_county','all_visitors'],\n",
        "                           value_vars=['tier1','tier2','tier3','tier4'],\n",
        "                           var_name='tier', value_name='tier_visitors')\n",
        "# merging index will be used for merging with store accessibility data\n",
        "df_visitors_long['merge_index'] = df_visitors_long.apply(lambda x: x.home_county+x.tier,axis=1)"
      ],
      "metadata": {
        "id": "cqYNBbh9saCX"
      },
      "execution_count": 43,
      "outputs": []
    },
    {
      "cell_type": "markdown",
      "metadata": {
        "id": "yO4OoMoXVDkH"
      },
      "source": [
        "## brand accessibility"
      ]
    },
    {
      "cell_type": "markdown",
      "source": [
        "This section calculates the percent of brand tier that are accessible to each home county. we expanded the polygon of each county by 20 miles beyond its original boundary.  Therefore, not only are these POIs located within the county boundary, but also those located near enough are considered accessible."
      ],
      "metadata": {
        "id": "_X4CKlDgm_uc"
      }
    },
    {
      "cell_type": "code",
      "source": [
        "# Load the json file with county coordinates\n",
        "geoData = gpd.read_file('https://raw.githubusercontent.com/holtzy/The-Python-Graph-Gallery/master/static/data/US-counties.geojson')\n"
      ],
      "metadata": {
        "id": "Y_Bb8Q7ZzKsY"
      },
      "execution_count": 16,
      "outputs": []
    },
    {
      "cell_type": "code",
      "execution_count": 40,
      "metadata": {
        "id": "Bd4ifJ59Vhc7"
      },
      "outputs": [],
      "source": [
        "def poi_accessibility(df_poi):\n",
        "  # select poi cordinates\n",
        "  df_poi2=df_poi.loc[:,['latitude','longitude','brand_tier']]\n",
        "  #transform points data to geodf format\n",
        "  geodf_poi = gpd.GeoDataFrame(df_poi2, geometry=gpd.points_from_xy(df_poi2.longitude, df_poi2.latitude),crs='EPSG:4326')\n",
        "  #transform points data to epsg27700 format (measured in meters)\n",
        "  geodf_poi2=geodf_poi.to_crs('EPSG:27700')\n",
        "  #expand county boundaries by 20 miles\n",
        "  buffers_20mile = geoData.set_geometry(geoData.to_crs('EPSG:27700').buffer(32187))\n",
        "  #merge county polygon and poi points\n",
        "  dfmerge_county = gpd.sjoin(buffers_20mile, geodf_poi2, how=\"left\", predicate='intersects')\n",
        "  # calculate number of pois of different tiers within each county, \"id\" represents county code\n",
        "  dfmerge_county = dfmerge_county[['id','brand_tier']].groupby(['id','brand_tier']).size().reset_index()\n",
        "  dfmerge_county = dfmerge_county.rename(columns={0:'counts'})\n",
        "  #average monthly counts, as df_poi includes 12 month data\n",
        "  dfmerge_county['counts']=dfmerge_county['counts']/len(df_poi.month.unique())\n",
        "  #count points of all brand type\n",
        "  total_counts = dfmerge_county.groupby('id')['counts'].sum()\n",
        "  # number of total accessible clothing stores\n",
        "  dfmerge_county['total_counts'] = dfmerge_county.id.apply(lambda x: total_counts[x])\n",
        "  # percent of accessible stores of given brand tier\n",
        "  dfmerge_county['store_ratio'] = dfmerge_county.apply(lambda x: x.counts/x.total_counts,axis=1)\n",
        "  # merging index that will be used for merging with visitor data\n",
        "  dfmerge_county['merge_index'] = dfmerge_county.apply(lambda x: x.id+x.brand_tier,axis=1)\n",
        "\n",
        "  return(dfmerge_county)\n"
      ]
    },
    {
      "cell_type": "code",
      "source": [
        "df_brand_accessibility = poi_accessibility(df_poi)"
      ],
      "metadata": {
        "id": "2Tz684rFhEYd"
      },
      "execution_count": 41,
      "outputs": []
    },
    {
      "cell_type": "code",
      "source": [
        "# merge visitor data with brand accessibility data\n",
        "df_visitors_acc = df_visitors_long.merge(df_brand_accessibility[['merge_index','store_ratio']],\n",
        "                                         on = 'merge_index',\n",
        "                                         how='left').fillna(0)"
      ],
      "metadata": {
        "id": "kB9kBeJMvUc_"
      },
      "execution_count": 44,
      "outputs": []
    },
    {
      "cell_type": "code",
      "source": [
        "df_visitors_acc.to_csv(\"/clean_data/df_visits.csv\",index=False)"
      ],
      "metadata": {
        "id": "ISJFt4BAvi44"
      },
      "execution_count": null,
      "outputs": []
    }
  ],
  "metadata": {
    "colab": {
      "provenance": []
    },
    "kernelspec": {
      "display_name": "Python 3",
      "name": "python3"
    },
    "language_info": {
      "name": "python"
    }
  },
  "nbformat": 4,
  "nbformat_minor": 0
}